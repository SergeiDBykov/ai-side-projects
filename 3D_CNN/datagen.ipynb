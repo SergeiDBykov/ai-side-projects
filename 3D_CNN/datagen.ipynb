{
 "cells": [
  {
   "cell_type": "code",
   "execution_count": 24,
   "metadata": {},
   "outputs": [],
   "source": [
    "import numpy as np\n",
    "import matplotlib.pyplot as plt\n",
    "import torch\n",
    "\n",
    "\n",
    "from src import FiguresDataset3D, visualize_batch"
   ]
  },
  {
   "cell_type": "code",
   "execution_count": 25,
   "metadata": {},
   "outputs": [],
   "source": [
    "dataset = FiguresDataset3D()\n",
    "dataloader = torch.utils.data.DataLoader(dataset, batch_size=11, shuffle=True)\n",
    "\n",
    "batch = next(iter(dataloader))\n"
   ]
  }
 ],
 "metadata": {
  "kernelspec": {
   "display_name": "venv_hea",
   "language": "python",
   "name": "python3"
  },
  "language_info": {
   "codemirror_mode": {
    "name": "ipython",
    "version": 3
   },
   "file_extension": ".py",
   "mimetype": "text/x-python",
   "name": "python",
   "nbconvert_exporter": "python",
   "pygments_lexer": "ipython3",
   "version": "3.10.11"
  }
 },
 "nbformat": 4,
 "nbformat_minor": 2
}
