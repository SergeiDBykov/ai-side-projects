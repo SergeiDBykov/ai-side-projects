{
 "cells": [
  {
   "cell_type": "markdown",
   "metadata": {},
   "source": [
    "# Variational autoencoder for 1D data \n",
    "\n",
    "In this notebook, we will implement a variational autoencoder (VAE) for 1D data which was generated from the mixture of several Gaussian distributions. \n",
    "\n",
    "I follow the theory behind VAEs outlined in [Understanding Deep Learning](https://udlbook.github.io/udlbook/) by Simon J.D. Prince, chapter 17."
   ]
  },
  {
   "cell_type": "code",
   "execution_count": 327,
   "metadata": {},
   "outputs": [],
   "source": [
    "import numpy as np\n",
    "import matplotlib.pyplot as plt\n",
    "from scipy import stats\n",
    "\n",
    "import torch\n",
    "from torch import nn\n",
    "from torch.optim import Adam\n",
    "from torch.nn import MSELoss\n",
    "import torch.nn.functional as F\n",
    "from torch.utils.data import Dataset, DataLoader\n",
    "\n",
    "import os\n",
    "from tqdm import tqdm\n",
    "\n",
    "%matplotlib inline"
   ]
  },
  {
   "cell_type": "markdown",
   "metadata": {},
   "source": [
    "# 1D Data preparation"
   ]
  },
  {
   "cell_type": "code",
   "execution_count": 328,
   "metadata": {},
   "outputs": [
    {
     "name": "stdout",
     "output_type": "stream",
     "text": [
      "cpu\n"
     ]
    },
    {
     "data": {
      "image/png": "[encoded data removed]",
      "text/plain": [
       "<Figure size 800x400 with 1 Axes>"
      ]
     },
     "metadata": {},
     "output_type": "display_data"
    }
   ],
   "source": [
    "class MyDataset(Dataset):\n",
    "    def __init__(self, means_list = [1, 5, 10], stds_list = [0.5, 1, 3], size = 10000, seed = 0):\n",
    "        \n",
    "        rvs_list = [stats.norm(loc=mean, scale=std) for mean, std in zip(means_list, stds_list)]\n",
    "\n",
    "        np.random.seed(seed)\n",
    "        x_train = np.concatenate([rvs.rvs(size) for rvs in rvs_list])\n",
    "        \n",
    "        #shuffle\n",
    "        np.random.shuffle(x_train)\n",
    "\n",
    "        #normalize x_train to the max of means + 3 stds\n",
    "        norm = max(means_list) + 3 * max(stds_list)\n",
    "        x_train = x_train / norm\n",
    "\n",
    "        self.x = torch.tensor(x_train, dtype=torch.float32).view(-1, 1)\n",
    "        self.x_numpy = x_train\n",
    "\n",
    "        #self.rvs_list = rvs_list\n",
    "        #self.n_rvs = len(rvs_list)\n",
    "\n",
    "    def __len__(self):\n",
    "        return len(self.x)\n",
    "\n",
    "    def __getitem__(self, idx):\n",
    "        return self.x[idx]\n",
    "    \n",
    "    def plot_data(self):\n",
    "        fig,  ax =  plt.subplots( figsize = (8,4))\n",
    "        ax.hist(self.x_numpy, bins = 100, density = True)\n",
    "\n",
    "        #for rvs in self.rvs_list:\n",
    "        #    x = np.linspace(rvs.ppf(0.001), rvs.ppf(0.999), 100)\n",
    "        #    ax.plot(x, rvs.pdf(x)/self.n_rvs, lw=2, alpha=0.6)\n",
    "        ax.set_xlabel('x')\n",
    "        ax.set_ylabel('pdf')\n",
    "        plt.show()\n",
    "\n",
    "\n",
    "BATCH_SIZE = 25\n",
    "device = torch.device(\"cuda\" if torch.cuda.is_available() else \"cpu\")\n",
    "print(device)\n",
    "\n",
    "train_dataset = MyDataset(means_list = [1, 5, 10],\n",
    "                          stds_list = [0.5, 1, 2],\n",
    "                            seed = 42)\n",
    "\n",
    "train_loader = DataLoader(train_dataset, batch_size=BATCH_SIZE, shuffle=True)\n",
    "    \n",
    "train_dataset.plot_data()"
   ]
  },
  {
   "cell_type": "code",
   "execution_count": 329,
   "metadata": {},
   "outputs": [
    {
     "data": {
      "text/plain": [
       "torch.Size([25, 1])"
      ]
     },
     "execution_count": 329,
     "metadata": {},
     "output_type": "execute_result"
    }
   ],
   "source": [
    "# sanity check of batch size and shape\n",
    "one_batch = next(iter(train_loader))\n",
    "one_batch.shape"
   ]
  },
  {
   "cell_type": "code",
   "execution_count": 330,
   "metadata": {},
   "outputs": [],
   "source": [
    "import torch\n",
    "import torch.nn as nn\n",
    "import torch.nn.functional as F\n",
    "\n",
    "class VAE(nn.Module):\n",
    "    def __init__(self,  latent_dim, input_dim=1, hidden_dim = 256):\n",
    "        super(VAE, self).__init__()\n",
    "        \n",
    "        self.fc1 = nn.Linear(input_dim, hidden_dim)\n",
    "        self.fc21 = nn.Linear(hidden_dim, latent_dim)\n",
    "        self.fc22 = nn.Linear(hidden_dim, latent_dim)\n",
    "        self.fc3 = nn.Linear(latent_dim, hidden_dim)\n",
    "        self.fc4 = nn.Linear(hidden_dim, input_dim)\n",
    "\n",
    "        self.input_dim = input_dim\n",
    "\n",
    "    def encode(self, x):\n",
    "        h1 = F.relu(self.fc1(x))\n",
    "        return self.fc21(h1), self.fc22(h1)\n",
    "\n",
    "    def reparameterize(self, mu, logvar):\n",
    "        std = torch.exp(0.5*logvar)\n",
    "        eps = torch.randn_like(std)\n",
    "        return mu + eps*std\n",
    "\n",
    "    def decode(self, z):\n",
    "        h3 = F.relu(self.fc3(z))\n",
    "        return self.fc4(h3)\n",
    "\n",
    "    def forward(self, x):\n",
    "        mu, logvar = self.encode(x.view(-1, self.input_dim))\n",
    "        z = self.reparameterize(mu, logvar)\n",
    "        return self.decode(z), mu, logvar\n",
    "\n",
    "\n",
    "def loss_function(recon_x, x, mu, logvar, KL_weight = 1.0):\n",
    "    # Reconstruction loss\n",
    "    MSE = F.mse_loss(recon_x, x.view(-1, 1), reduction='sum')\n",
    "    \n",
    "    # KL divergence loss\n",
    "    KLD = -0.5 * torch.sum(1 + logvar - mu.pow(2) - logvar.exp())\n",
    "    \n",
    "    return MSE + KLD*KL_weight\n"
   ]
  },
  {
   "cell_type": "code",
   "execution_count": 331,
   "metadata": {},
   "outputs": [],
   "source": [
    "def train(model, optimizer, train_loader, num_epochs, KL_weight = 1.0):\n",
    "    model.train()\n",
    "    for epoch in range(num_epochs):\n",
    "        train_loss = 0\n",
    "        for batch_idx, data in enumerate(train_loader):\n",
    "            data = data.to(device)\n",
    "            optimizer.zero_grad()\n",
    "            recon_batch, mu, logvar = model(data)\n",
    "            loss = loss_function(recon_batch, data, mu, logvar, KL_weight = KL_weight)\n",
    "            loss.backward()\n",
    "            train_loss += loss.item()\n",
    "            optimizer.step()\n",
    "        print('Epoch {}: Average loss: {:.4f}'.format(epoch, train_loss / len(train_loader.dataset)))\n"
   ]
  },
  {
   "cell_type": "code",
   "execution_count": 332,
   "metadata": {},
   "outputs": [],
   "source": [
    "latent_dim = 10\n",
    "lr = 1e-3\n",
    "kl_weight = 1\n",
    "\n",
    "vae = VAE(latent_dim = latent_dim).to(device)\n",
    "optimizer = torch.optim.Adam(vae.parameters(), lr=lr)\n"
   ]
  },
  {
   "cell_type": "code",
   "execution_count": 333,
   "metadata": {},
   "outputs": [
    {
     "name": "stdout",
     "output_type": "stream",
     "text": [
      "Epoch 0: Average loss: 0.0664\n",
      "Epoch 1: Average loss: 0.0625\n",
      "Epoch 2: Average loss: 0.0619\n",
      "Epoch 3: Average loss: 0.0614\n",
      "Epoch 4: Average loss: 0.0610\n",
      "Epoch 5: Average loss: 0.0607\n",
      "Epoch 6: Average loss: 0.0605\n",
      "Epoch 7: Average loss: 0.0603\n",
      "Epoch 8: Average loss: 0.0600\n",
      "Epoch 9: Average loss: 0.0599\n"
     ]
    }
   ],
   "source": [
    "\n",
    "num_epochs = 10\n",
    "train(vae, optimizer, train_loader, num_epochs, KL_weight = kl_weight)\n"
   ]
  },
  {
   "cell_type": "code",
   "execution_count": 334,
   "metadata": {},
   "outputs": [
    {
     "data": {
      "image/png": "[encoded data removed]",
      "text/plain": [
       "<Figure size 640x480 with 1 Axes>"
      ]
     },
     "metadata": {},
     "output_type": "display_data"
    }
   ],
   "source": [
    "def generate_samples(vae, num_samples):\n",
    "    # Sample from standard normal distribution\n",
    "    z = torch.randn(num_samples, vae.fc21.out_features)\n",
    "\n",
    "    # Generate samples by decoding the latent vector\n",
    "    samples = vae.decode(z)\n",
    "\n",
    "    return samples\n",
    "\n",
    "def visualize_samples(samples, data=None, bins = 50):\n",
    "    # Convert tensor to numpy array for visualization\n",
    "    samples = samples.detach().numpy()\n",
    "\n",
    "    # Create a histogram\n",
    "    plt.hist(samples, bins=bins, density=True, alpha = 0.5)\n",
    "    plt.xlabel('Value')\n",
    "    plt.ylabel('Density')\n",
    "\n",
    "    if data is not None:\n",
    "        # Plot the data distribution\n",
    "        data = data.numpy()\n",
    "        plt.hist(data, bins=bins, density=True, alpha=0.2)\n",
    "        plt.legend(['Learned', 'Data'])\n",
    "    plt.title('Samples')\n",
    "    plt.show()\n",
    "\n",
    "# Generate 1000 samples\n",
    "samples = generate_samples(vae, 10000)\n",
    "\n",
    "# Visualize the samples\n",
    "visualize_samples(samples, train_dataset.x)"
   ]
  }
 ],
 "metadata": {
  "kernelspec": {
   "display_name": "venv_hea",
   "language": "python",
   "name": "python3"
  },
  "language_info": {
   "codemirror_mode": {
    "name": "ipython",
    "version": 3
   },
   "file_extension": ".py",
   "mimetype": "text/x-python",
   "name": "python",
   "nbconvert_exporter": "python",
   "pygments_lexer": "ipython3",
   "version": "3.10.11"
  }
 },
 "nbformat": 4,
 "nbformat_minor": 2
}
